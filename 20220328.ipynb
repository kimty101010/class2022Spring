{
  "nbformat": 4,
  "nbformat_minor": 0,
  "metadata": {
    "colab": {
      "name": "20220328",
      "provenance": [],
      "include_colab_link": true
    },
    "kernelspec": {
      "name": "python3",
      "display_name": "Python 3"
    },
    "language_info": {
      "name": "python"
    }
  },
  "cells": [
    {
      "cell_type": "markdown",
      "metadata": {
        "id": "view-in-github",
        "colab_type": "text"
      },
      "source": [
        "<a href=\"https://colab.research.google.com/github/kimty101010/class2022Spring/blob/main/20220328.ipynb\" target=\"_parent\"><img src=\"https://colab.research.google.com/assets/colab-badge.svg\" alt=\"Open In Colab\"/></a>"
      ]
    },
    {
      "cell_type": "code",
      "source": [
        "# iface = gr.Interface(sum, inputs = [\"number\", \"number\"], outputs = [\"text\"])\n",
        "# iface.launch()"
      ],
      "metadata": {
        "id": "vNlrBEbSS7ge"
      },
      "execution_count": null,
      "outputs": []
    },
    {
      "cell_type": "code",
      "source": [
        "# iface = gr.Interface(sum, [gr.inputs.Number(label='input1'), gr.inputs.Number(label='input2')], gr.outputs.Textbox(label='answer'))\n",
        "# iface.launch()"
      ],
      "metadata": {
        "id": "9C_eEMRCWExA"
      },
      "execution_count": null,
      "outputs": []
    },
    {
      "cell_type": "markdown",
      "source": [
        "----------------------"
      ],
      "metadata": {
        "id": "MOw5ghAIw_Xv"
      }
    },
    {
      "cell_type": "code",
      "source": [
        "!pip install gradio\n",
        "import gradio as gr\n",
        "import requests\n",
        "import pandas as pd"
      ],
      "metadata": {
        "id": "8eZHGJhmqd9a"
      },
      "execution_count": null,
      "outputs": []
    },
    {
      "cell_type": "code",
      "source": [
        "URL = ('http://apis.data.go.kr/B553734/iseweatherobsev/getOutdoorTemp?serviceKey=px6r7k7GvbtSwVH11NGQi7r7OwY3tWUlfYgVa8kwExxE843Mslgui%2BBPL7eUkNQMs8i0pALXa%2F99nSjIH0P9rQ%3D%3D&returnType=json&numOfRows=10&pageNo=1&startDate=2016-01-01&endDate=2019-12-01')\n",
        "      # 'getCtprvnMesureSidoLIst?' -> getOutdoorTemp?'\n",
        "      # 'sidoName=서울'\n",
        "      # '&searchCondition=hour'\n",
        "      # '&pageNo=1'\n",
        "      # '&numOfRows=100'\n",
        "      # '&returnType=json'\n",
        "      # '&serviceKey=miH%2BZXg85lQy4%2FkmhffvygXDIFiTwisriSLxtyECSzw6hxTVK7yI8QKIOc7mP7LEqCnhBGuj6iW1gZW65dum7A%3D%3D')\n",
        "      #  TY 인증키: px6r7k7GvbtSwVH11NGQi7r7OwY3tWUlfYgVa8kwExxE843Mslgui%2BBPL7eUkNQMs8i0pALXa%2F99nSjIH0P9rQ%3D%3D\n",
        "response = requests.get(URL)"
      ],
      "metadata": {
        "id": "lHHEwqpyJF7r"
      },
      "execution_count": 19,
      "outputs": []
    },
    {
      "cell_type": "markdown",
      "source": [
        "#### http://jsonviewer.stack.hu/ (copy json here to view json)"
      ],
      "metadata": {
        "id": "faIENRyFfnY1"
      }
    },
    {
      "cell_type": "code",
      "source": [
        "r = response.json()\n",
        "r"
      ],
      "metadata": {
        "id": "JcLKwg0foR9p"
      },
      "execution_count": null,
      "outputs": []
    },
    {
      "cell_type": "code",
      "source": [
        "items = r['body']['items']['item'] # items = r['response']['body'][items']\n",
        "items[1]\n",
        "\n"
      ],
      "metadata": {
        "id": "liCwCaZ63JNP"
      },
      "execution_count": null,
      "outputs": []
    },
    {
      "cell_type": "code",
      "source": [
        "items = r['body']['items']['item'] # items = r['response']['body'][items']\n",
        "\n",
        "branchCd = [item['branchCd'] for item in items]\n",
        "branchNm = [item['branchNm'] for item in items]\n",
        "dates = [item['dates'] for item in items]\n",
        "hour = [item['hour'] for item in items]\n",
        "outdoorTemp = [item['outdoorTemp'] for item in items]\n",
        "\n",
        "\n",
        "branchCd = pd.Series(branchCd)\n",
        "branchNm = pd.Series(branchNm)   \n",
        "dates = pd.Series(dates)\n",
        "hour = pd.Series(hour)\n",
        "outdoorTemp = pd.Series(outdoorTemp)\n",
        "\n",
        "\n",
        "df = pd.DataFrame({ 'branchCd': branchCd, 'branchNm': branchNm, 'dates': dates, 'hour': hour, 'outdoorTemp': outdoorTemp})\n",
        "df"
      ],
      "metadata": {
        "id": "W8lA0-IzE55W",
        "colab": {
          "base_uri": "https://localhost:8080/",
          "height": 363
        },
        "outputId": "631ed523-6482-4ecd-a384-8cfd94aa6173"
      },
      "execution_count": 26,
      "outputs": [
        {
          "output_type": "execute_result",
          "data": {
            "text/plain": [
              "  branchCd branchNm       dates hour outdoorTemp\n",
              "0        1     서부지사  2017-11-28   24        8.95\n",
              "1        1     서부지사  2017-11-27   24        1.21\n",
              "2        2     동부지사  2017-11-28   24        7.61\n",
              "3        1     서부지사  2017-11-26   24        0.84\n",
              "4        1     서부지사  2017-11-25   24        7.00\n",
              "5        1     서부지사  2019-01-21   24        0.65\n",
              "6        1     서부지사  2017-09-03   24       22.93\n",
              "7        1     서부지사  2017-09-02   24       22.54\n",
              "8        1     서부지사  2017-09-01   24       21.51\n",
              "9        2     동부지사  2019-11-11   24        9.17"
            ],
            "text/html": [
              "\n",
              "  <div id=\"df-55d4be88-f2df-49e3-8f2c-5d1f481ae25a\">\n",
              "    <div class=\"colab-df-container\">\n",
              "      <div>\n",
              "<style scoped>\n",
              "    .dataframe tbody tr th:only-of-type {\n",
              "        vertical-align: middle;\n",
              "    }\n",
              "\n",
              "    .dataframe tbody tr th {\n",
              "        vertical-align: top;\n",
              "    }\n",
              "\n",
              "    .dataframe thead th {\n",
              "        text-align: right;\n",
              "    }\n",
              "</style>\n",
              "<table border=\"1\" class=\"dataframe\">\n",
              "  <thead>\n",
              "    <tr style=\"text-align: right;\">\n",
              "      <th></th>\n",
              "      <th>branchCd</th>\n",
              "      <th>branchNm</th>\n",
              "      <th>dates</th>\n",
              "      <th>hour</th>\n",
              "      <th>outdoorTemp</th>\n",
              "    </tr>\n",
              "  </thead>\n",
              "  <tbody>\n",
              "    <tr>\n",
              "      <th>0</th>\n",
              "      <td>1</td>\n",
              "      <td>서부지사</td>\n",
              "      <td>2017-11-28</td>\n",
              "      <td>24</td>\n",
              "      <td>8.95</td>\n",
              "    </tr>\n",
              "    <tr>\n",
              "      <th>1</th>\n",
              "      <td>1</td>\n",
              "      <td>서부지사</td>\n",
              "      <td>2017-11-27</td>\n",
              "      <td>24</td>\n",
              "      <td>1.21</td>\n",
              "    </tr>\n",
              "    <tr>\n",
              "      <th>2</th>\n",
              "      <td>2</td>\n",
              "      <td>동부지사</td>\n",
              "      <td>2017-11-28</td>\n",
              "      <td>24</td>\n",
              "      <td>7.61</td>\n",
              "    </tr>\n",
              "    <tr>\n",
              "      <th>3</th>\n",
              "      <td>1</td>\n",
              "      <td>서부지사</td>\n",
              "      <td>2017-11-26</td>\n",
              "      <td>24</td>\n",
              "      <td>0.84</td>\n",
              "    </tr>\n",
              "    <tr>\n",
              "      <th>4</th>\n",
              "      <td>1</td>\n",
              "      <td>서부지사</td>\n",
              "      <td>2017-11-25</td>\n",
              "      <td>24</td>\n",
              "      <td>7.00</td>\n",
              "    </tr>\n",
              "    <tr>\n",
              "      <th>5</th>\n",
              "      <td>1</td>\n",
              "      <td>서부지사</td>\n",
              "      <td>2019-01-21</td>\n",
              "      <td>24</td>\n",
              "      <td>0.65</td>\n",
              "    </tr>\n",
              "    <tr>\n",
              "      <th>6</th>\n",
              "      <td>1</td>\n",
              "      <td>서부지사</td>\n",
              "      <td>2017-09-03</td>\n",
              "      <td>24</td>\n",
              "      <td>22.93</td>\n",
              "    </tr>\n",
              "    <tr>\n",
              "      <th>7</th>\n",
              "      <td>1</td>\n",
              "      <td>서부지사</td>\n",
              "      <td>2017-09-02</td>\n",
              "      <td>24</td>\n",
              "      <td>22.54</td>\n",
              "    </tr>\n",
              "    <tr>\n",
              "      <th>8</th>\n",
              "      <td>1</td>\n",
              "      <td>서부지사</td>\n",
              "      <td>2017-09-01</td>\n",
              "      <td>24</td>\n",
              "      <td>21.51</td>\n",
              "    </tr>\n",
              "    <tr>\n",
              "      <th>9</th>\n",
              "      <td>2</td>\n",
              "      <td>동부지사</td>\n",
              "      <td>2019-11-11</td>\n",
              "      <td>24</td>\n",
              "      <td>9.17</td>\n",
              "    </tr>\n",
              "  </tbody>\n",
              "</table>\n",
              "</div>\n",
              "      <button class=\"colab-df-convert\" onclick=\"convertToInteractive('df-55d4be88-f2df-49e3-8f2c-5d1f481ae25a')\"\n",
              "              title=\"Convert this dataframe to an interactive table.\"\n",
              "              style=\"display:none;\">\n",
              "        \n",
              "  <svg xmlns=\"http://www.w3.org/2000/svg\" height=\"24px\"viewBox=\"0 0 24 24\"\n",
              "       width=\"24px\">\n",
              "    <path d=\"M0 0h24v24H0V0z\" fill=\"none\"/>\n",
              "    <path d=\"M18.56 5.44l.94 2.06.94-2.06 2.06-.94-2.06-.94-.94-2.06-.94 2.06-2.06.94zm-11 1L8.5 8.5l.94-2.06 2.06-.94-2.06-.94L8.5 2.5l-.94 2.06-2.06.94zm10 10l.94 2.06.94-2.06 2.06-.94-2.06-.94-.94-2.06-.94 2.06-2.06.94z\"/><path d=\"M17.41 7.96l-1.37-1.37c-.4-.4-.92-.59-1.43-.59-.52 0-1.04.2-1.43.59L10.3 9.45l-7.72 7.72c-.78.78-.78 2.05 0 2.83L4 21.41c.39.39.9.59 1.41.59.51 0 1.02-.2 1.41-.59l7.78-7.78 2.81-2.81c.8-.78.8-2.07 0-2.86zM5.41 20L4 18.59l7.72-7.72 1.47 1.35L5.41 20z\"/>\n",
              "  </svg>\n",
              "      </button>\n",
              "      \n",
              "  <style>\n",
              "    .colab-df-container {\n",
              "      display:flex;\n",
              "      flex-wrap:wrap;\n",
              "      gap: 12px;\n",
              "    }\n",
              "\n",
              "    .colab-df-convert {\n",
              "      background-color: #E8F0FE;\n",
              "      border: none;\n",
              "      border-radius: 50%;\n",
              "      cursor: pointer;\n",
              "      display: none;\n",
              "      fill: #1967D2;\n",
              "      height: 32px;\n",
              "      padding: 0 0 0 0;\n",
              "      width: 32px;\n",
              "    }\n",
              "\n",
              "    .colab-df-convert:hover {\n",
              "      background-color: #E2EBFA;\n",
              "      box-shadow: 0px 1px 2px rgba(60, 64, 67, 0.3), 0px 1px 3px 1px rgba(60, 64, 67, 0.15);\n",
              "      fill: #174EA6;\n",
              "    }\n",
              "\n",
              "    [theme=dark] .colab-df-convert {\n",
              "      background-color: #3B4455;\n",
              "      fill: #D2E3FC;\n",
              "    }\n",
              "\n",
              "    [theme=dark] .colab-df-convert:hover {\n",
              "      background-color: #434B5C;\n",
              "      box-shadow: 0px 1px 3px 1px rgba(0, 0, 0, 0.15);\n",
              "      filter: drop-shadow(0px 1px 2px rgba(0, 0, 0, 0.3));\n",
              "      fill: #FFFFFF;\n",
              "    }\n",
              "  </style>\n",
              "\n",
              "      <script>\n",
              "        const buttonEl =\n",
              "          document.querySelector('#df-55d4be88-f2df-49e3-8f2c-5d1f481ae25a button.colab-df-convert');\n",
              "        buttonEl.style.display =\n",
              "          google.colab.kernel.accessAllowed ? 'block' : 'none';\n",
              "\n",
              "        async function convertToInteractive(key) {\n",
              "          const element = document.querySelector('#df-55d4be88-f2df-49e3-8f2c-5d1f481ae25a');\n",
              "          const dataTable =\n",
              "            await google.colab.kernel.invokeFunction('convertToInteractive',\n",
              "                                                     [key], {});\n",
              "          if (!dataTable) return;\n",
              "\n",
              "          const docLinkHtml = 'Like what you see? Visit the ' +\n",
              "            '<a target=\"_blank\" href=https://colab.research.google.com/notebooks/data_table.ipynb>data table notebook</a>'\n",
              "            + ' to learn more about interactive tables.';\n",
              "          element.innerHTML = '';\n",
              "          dataTable['output_type'] = 'display_data';\n",
              "          await google.colab.output.renderOutput(dataTable, element);\n",
              "          const docLink = document.createElement('div');\n",
              "          docLink.innerHTML = docLinkHtml;\n",
              "          element.appendChild(docLink);\n",
              "        }\n",
              "      </script>\n",
              "    </div>\n",
              "  </div>\n",
              "  "
            ]
          },
          "metadata": {},
          "execution_count": 26
        }
      ]
    },
    {
      "cell_type": "code",
      "source": [
        "def ty(branchNm):\n",
        "  URL = ('http://apis.data.go.kr/B553734/iseweatherobsev/getOutdoorTemp?serviceKey=px6r7k7GvbtSwVH11NGQi7r7OwY3tWUlfYgVa8kwExxE843Mslgui%2BBPL7eUkNQMs8i0pALXa%2F99nSjIH0P9rQ%3D%3D&returnType=json&numOfRows=10&pageNo=1&startDate=2016-01-01&endDate=2019-12-01')\n",
        "\n",
        "  response = requests.get(URL)\n",
        "  r = response.json()\n",
        "  items = r['body']['items']['item'] # items = r['response']['body'][items']\n",
        "\n",
        "  branchCd = [item['branchCd'] for item in items]\n",
        "  branchNm = [item['branchNm'] for item in items]\n",
        "  dates = [item['dates'] for item in items]\n",
        "  hour = [item['hour'] for item in items]\n",
        "  outdoorTemp = [item['outdoorTemp'] for item in items]\n",
        "\n",
        "\n",
        "  branchCd = pd.Series(branchCd)\n",
        "  branchNm = pd.Series(branchNm)   \n",
        "  dates = pd.Series(dates)\n",
        "  hour = pd.Series(hour)\n",
        "  outdoorTemp = pd.Series(outdoorTemp)\n",
        "\n",
        "  df = pd.DataFrame({ 'branchCd': branchCd, 'branchNm': branchNm, 'dates': dates, 'hour': hour, 'outdoorTemp': outdoorTemp})\n",
        "  return df"
      ],
      "metadata": {
        "id": "D4Kb2aas5opb"
      },
      "execution_count": 42,
      "outputs": []
    },
    {
      "cell_type": "code",
      "source": [
        "iface = gr.Interface(ty, gr.inputs.Dropdown(['서부지사', '동부지사']), outputs=['dataframe'])\n",
        "iface.launch(debug=True)"
      ],
      "metadata": {
        "colab": {
          "base_uri": "https://localhost:8080/",
          "height": 666
        },
        "id": "-nRtA9LY79JN",
        "outputId": "d9ec9e07-f4aa-4a13-956e-2a9565f3f681"
      },
      "execution_count": 43,
      "outputs": [
        {
          "output_type": "stream",
          "name": "stdout",
          "text": [
            "Colab notebook detected. This cell will run indefinitely so that you can see errors and logs. To turn off, set debug=False in launch().\n",
            "Running on public URL: https://16851.gradio.app\n",
            "\n",
            "This share link expires in 72 hours. For free permanent hosting, check out Spaces (https://huggingface.co/spaces)\n"
          ]
        },
        {
          "output_type": "display_data",
          "data": {
            "text/plain": [
              "<IPython.lib.display.IFrame at 0x7f1bcc2d8fd0>"
            ],
            "text/html": [
              "\n",
              "        <iframe\n",
              "            width=\"900\"\n",
              "            height=\"500\"\n",
              "            src=\"https://16851.gradio.app\"\n",
              "            frameborder=\"0\"\n",
              "            allowfullscreen\n",
              "        ></iframe>\n",
              "        "
            ]
          },
          "metadata": {}
        },
        {
          "output_type": "stream",
          "name": "stdout",
          "text": [
            "Keyboard interruption in main thread... closing server.\n"
          ]
        },
        {
          "output_type": "execute_result",
          "data": {
            "text/plain": [
              "(<fastapi.applications.FastAPI at 0x7f1bd4c8b350>,\n",
              " 'http://127.0.0.1:7860/',\n",
              " 'https://16851.gradio.app')"
            ]
          },
          "metadata": {},
          "execution_count": 43
        }
      ]
    },
    {
      "cell_type": "markdown",
      "source": [
        "----------------------------"
      ],
      "metadata": {
        "id": "f8GlZr2a5mm3"
      }
    }
  ]
}