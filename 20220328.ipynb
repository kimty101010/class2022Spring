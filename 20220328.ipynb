{
  "nbformat": 4,
  "nbformat_minor": 0,
  "metadata": {
    "colab": {
      "name": "20220328",
      "provenance": [],
      "include_colab_link": true
    },
    "kernelspec": {
      "name": "python3",
      "display_name": "Python 3"
    },
    "language_info": {
      "name": "python"
    }
  },
  "cells": [
    {
      "cell_type": "markdown",
      "metadata": {
        "id": "view-in-github",
        "colab_type": "text"
      },
      "source": [
        "<a href=\"https://colab.research.google.com/github/kimty101010/class2022Spring/blob/main/20220328.ipynb\" target=\"_parent\"><img src=\"https://colab.research.google.com/assets/colab-badge.svg\" alt=\"Open In Colab\"/></a>"
      ]
    },
    {
      "cell_type": "code",
      "source": [
        "# iface = gr.Interface(sum, inputs = [\"number\", \"number\"], outputs = [\"text\"])\n",
        "# iface.launch()"
      ],
      "metadata": {
        "id": "vNlrBEbSS7ge"
      },
      "execution_count": null,
      "outputs": []
    },
    {
      "cell_type": "code",
      "source": [
        "# iface = gr.Interface(sum, [gr.inputs.Number(label='input1'), gr.inputs.Number(label='input2')], gr.outputs.Textbox(label='answer'))\n",
        "# iface.launch()"
      ],
      "metadata": {
        "id": "9C_eEMRCWExA"
      },
      "execution_count": null,
      "outputs": []
    },
    {
      "cell_type": "markdown",
      "source": [
        "----------------------"
      ],
      "metadata": {
        "id": "MOw5ghAIw_Xv"
      }
    },
    {
      "cell_type": "code",
      "source": [
        "!pip install gradio\n",
        "import gradio as gr\n",
        "import requests\n",
        "import pandas as pd"
      ],
      "metadata": {
        "id": "8eZHGJhmqd9a"
      },
      "execution_count": null,
      "outputs": []
    },
    {
      "cell_type": "code",
      "source": [
        "URL = ('http://apis.data.go.kr/B553734/iseweatherobsev/getOutdoorTemp?serviceKey=px6r7k7GvbtSwVH11NGQi7r7OwY3tWUlfYgVa8kwExxE843Mslgui%2BBPL7eUkNQMs8i0pALXa%2F99nSjIH0P9rQ%3D%3D&returnType=json&numOfRows=10&pageNo=1&startDate=2016-01-01&endDate=2019-12-01')\n",
        "      # 'getCtprvnMesureSidoLIst?' -> getOutdoorTemp?'\n",
        "      # 'sidoName=서울'\n",
        "      # '&searchCondition=hour'\n",
        "      # '&pageNo=1'\n",
        "      # '&numOfRows=100'\n",
        "      # '&returnType=json'\n",
        "      # '&serviceKey=miH%2BZXg85lQy4%2FkmhffvygXDIFiTwisriSLxtyECSzw6hxTVK7yI8QKIOc7mP7LEqCnhBGuj6iW1gZW65dum7A%3D%3D')\n",
        "      #  TY 인증키: px6r7k7GvbtSwVH11NGQi7r7OwY3tWUlfYgVa8kwExxE843Mslgui%2BBPL7eUkNQMs8i0pALXa%2F99nSjIH0P9rQ%3D%3D\n",
        "response = requests.get(URL)"
      ],
      "metadata": {
        "id": "lHHEwqpyJF7r"
      },
      "execution_count": null,
      "outputs": []
    },
    {
      "cell_type": "markdown",
      "source": [
        "#### http://jsonviewer.stack.hu/ (copy json here to view json)"
      ],
      "metadata": {
        "id": "faIENRyFfnY1"
      }
    },
    {
      "cell_type": "code",
      "source": [
        "r = response.json()\n",
        "r"
      ],
      "metadata": {
        "id": "JcLKwg0foR9p"
      },
      "execution_count": null,
      "outputs": []
    },
    {
      "cell_type": "code",
      "source": [
        "items = r['body']['items']['item'] # items = r['response']['body'][items']\n",
        "items[1]\n",
        "\n"
      ],
      "metadata": {
        "id": "liCwCaZ63JNP"
      },
      "execution_count": null,
      "outputs": []
    },
    {
      "cell_type": "code",
      "source": [
        "items = r['body']['items']['item'] # items = r['response']['body'][items']\n",
        "\n",
        "branchCd = [item['branchCd'] for item in items]\n",
        "branchNm = [item['branchNm'] for item in items]\n",
        "dates = [item['dates'] for item in items]\n",
        "hour = [item['hour'] for item in items]\n",
        "outdoorTemp = [item['outdoorTemp'] for item in items]\n",
        "\n",
        "\n",
        "branchCd = pd.Series(branchCd)\n",
        "branchNm = pd.Series(branchNm)   \n",
        "dates = pd.Series(dates)\n",
        "hour = pd.Series(hour)\n",
        "outdoorTemp = pd.Series(outdoorTemp)\n",
        "\n",
        "\n",
        "df = pd.DataFrame({ 'branchCd': branchCd, 'branchNm': branchNm, 'dates': dates, 'hour': hour, 'outdoorTemp': outdoorTemp})\n",
        "df"
      ],
      "metadata": {
        "id": "W8lA0-IzE55W"
      },
      "execution_count": null,
      "outputs": []
    },
    {
      "cell_type": "code",
      "source": [
        "def ty(branchNm):\n",
        "  URL = ('http://apis.data.go.kr/B553734/iseweatherobsev/getOutdoorTemp?serviceKey=px6r7k7GvbtSwVH11NGQi7r7OwY3tWUlfYgVa8kwExxE843Mslgui%2BBPL7eUkNQMs8i0pALXa%2F99nSjIH0P9rQ%3D%3D&returnType=json&numOfRows=10&pageNo=1&startDate=2016-01-01&endDate=2019-12-01')\n",
        "\n",
        "  response = requests.get(URL)\n",
        "  r = response.json()\n",
        "  items = r['body']['items']['item'] # items = r['response']['body'][items']\n",
        "\n",
        "  branchCd = [item['branchCd'] for item in items]\n",
        "  branchNm = [item['branchNm'] for item in items]\n",
        "  dates = [item['dates'] for item in items]\n",
        "  hour = [item['hour'] for item in items]\n",
        "  outdoorTemp = [item['outdoorTemp'] for item in items]\n",
        "\n",
        "\n",
        "  branchCd = pd.Series(branchCd)\n",
        "  branchNm = pd.Series(branchNm)   \n",
        "  dates = pd.Series(dates)\n",
        "  hour = pd.Series(hour)\n",
        "  outdoorTemp = pd.Series(outdoorTemp)\n",
        "\n",
        "  df = pd.DataFrame({ 'branchCd': branchCd, 'branchNm': branchNm, 'dates': dates, 'hour': hour, 'outdoorTemp': outdoorTemp})\n",
        "  return df"
      ],
      "metadata": {
        "id": "D4Kb2aas5opb"
      },
      "execution_count": null,
      "outputs": []
    },
    {
      "cell_type": "code",
      "source": [
        "iface = gr.Interface(ty, gr.inputs.Dropdown(['서부지사', '동부지사']), outputs=['dataframe'])\n",
        "iface.launch(debug=True)"
      ],
      "metadata": {
        "colab": {
          "base_uri": "https://localhost:8080/",
          "height": 666
        },
        "id": "-nRtA9LY79JN",
        "outputId": "d9ec9e07-f4aa-4a13-956e-2a9565f3f681"
      },
      "execution_count": null,
      "outputs": [
        {
          "output_type": "stream",
          "name": "stdout",
          "text": [
            "Colab notebook detected. This cell will run indefinitely so that you can see errors and logs. To turn off, set debug=False in launch().\n",
            "Running on public URL: https://16851.gradio.app\n",
            "\n",
            "This share link expires in 72 hours. For free permanent hosting, check out Spaces (https://huggingface.co/spaces)\n"
          ]
        },
        {
          "output_type": "display_data",
          "data": {
            "text/plain": [
              "<IPython.lib.display.IFrame at 0x7f1bcc2d8fd0>"
            ],
            "text/html": [
              "\n",
              "        <iframe\n",
              "            width=\"900\"\n",
              "            height=\"500\"\n",
              "            src=\"https://16851.gradio.app\"\n",
              "            frameborder=\"0\"\n",
              "            allowfullscreen\n",
              "        ></iframe>\n",
              "        "
            ]
          },
          "metadata": {}
        },
        {
          "output_type": "stream",
          "name": "stdout",
          "text": [
            "Keyboard interruption in main thread... closing server.\n"
          ]
        },
        {
          "output_type": "execute_result",
          "data": {
            "text/plain": [
              "(<fastapi.applications.FastAPI at 0x7f1bd4c8b350>,\n",
              " 'http://127.0.0.1:7860/',\n",
              " 'https://16851.gradio.app')"
            ]
          },
          "metadata": {},
          "execution_count": 43
        }
      ]
    },
    {
      "cell_type": "markdown",
      "source": [
        "----------------------------"
      ],
      "metadata": {
        "id": "f8GlZr2a5mm3"
      }
    }
  ]
}