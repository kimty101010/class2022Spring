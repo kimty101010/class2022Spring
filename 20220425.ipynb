{
  "nbformat": 4,
  "nbformat_minor": 0,
  "metadata": {
    "colab": {
      "name": "20220425",
      "provenance": [],
      "collapsed_sections": [],
      "authorship_tag": "ABX9TyPFyCTvvd6PzC3N7oaqq1T0",
      "include_colab_link": true
    },
    "kernelspec": {
      "name": "python3",
      "display_name": "Python 3"
    },
    "language_info": {
      "name": "python"
    }
  },
  "cells": [
    {
      "cell_type": "markdown",
      "metadata": {
        "id": "view-in-github",
        "colab_type": "text"
      },
      "source": [
        "<a href=\"https://colab.research.google.com/github/kimty101010/class2022Spring/blob/main/20220425.ipynb\" target=\"_parent\"><img src=\"https://colab.research.google.com/assets/colab-badge.svg\" alt=\"Open In Colab\"/></a>"
      ]
    },
    {
      "cell_type": "markdown",
      "source": [
        "**Filter(변환):\n",
        "소리(신호)에 변형을 가하려면 주파수 별로 요청**\n",
        "\n",
        "\n",
        "\n"
      ],
      "metadata": {
        "id": "qrE3EuJQpNDi"
      }
    },
    {
      "cell_type": "markdown",
      "source": [
        "참고 사이트: https://librosa.org/doc/, https://dr-inmy.tistory.com/15, https://hyunlee103.tistory.com/54, https://growingsaja.tistory.com/233"
      ],
      "metadata": {
        "id": "fCP9_8Rwsktf"
      }
    },
    {
      "cell_type": "markdown",
      "source": [
        "### RMS(Root Mean Square) for intensity"
      ],
      "metadata": {
        "id": "N9NfP2cPCw7P"
      }
    },
    {
      "cell_type": "code",
      "metadata": {
        "id": "MkJTYAixfNhK"
      },
      "source": [
        "rms = librosa.feature.rms(s)   \n",
        "plt.plot(rms[0])"
      ],
      "execution_count": null,
      "outputs": []
    },
    {
      "cell_type": "markdown",
      "source": [
        "\n",
        "\n",
        "1.   오디오 샘플 y 또는 스펙트로그램 s에서 각 프레임의 RMS value값을 계산\n",
        "2.   RMS 계산 값을 plt 이용해 plotting\n",
        "\n",
        "\n"
      ],
      "metadata": {
        "id": "fkiAQPh-rguD"
      }
    },
    {
      "cell_type": "markdown",
      "source": [
        "\n",
        "\n",
        "1.   음성 인식 또는 Audio Captioning에서 소리 신호의 처리 및 분석은 소리의 원인이 되는 진동 신호를 활용해 Noise를 줄이고,주파수 구간별 대표값(대표적으로 \n",
        "RMS 값)으로 간략화 후 분석하는 방법을 사용\n",
        "2.  계산된 RMSE 값은 추후 MFCC feature 중 하나로 사용\n",
        "3.  연속적인 시간 파형의 RMS 값은 연속 파형을 정의하는 함수의 제곱의 산술 평균의 제곱근\n",
        "4.  추가적으로, RMSE는 표준편차와 동일한 것. 특정 수치에 대한 예측의 정확도를 표현할 때, Accuracy로 판단하기에는 정확도를 올바르게 표기할 수 없어, RMSE 수치로 정확도 판단. 일반적으로 해당 수치가 낮을수록 정확도가 높다고 판단\n",
        "\n",
        " "
      ],
      "metadata": {
        "id": "z7O4-5QJt4ul"
      }
    },
    {
      "cell_type": "markdown",
      "source": [
        "### Autocorrelation for pitch(F0) measurement"
      ],
      "metadata": {
        "id": "O9mNH08CDAR-"
      }
    },
    {
      "cell_type": "code",
      "metadata": {
        "id": "PoOGXdFBgpx1"
      },
      "source": [
        "F0, voiced_flag, voiced_prob = librosa.pyin(s, 60, 200)\n",
        "plt.plot(F0, '.')"
      ],
      "execution_count": null,
      "outputs": []
    },
    {
      "cell_type": "markdown",
      "source": [
        "1.   pyin = probabilistic YIN\n",
        "2.   pyin을 이용한 기본 주파수(F0) 추정\n",
        "3.   F0를 . 을 이용해 plotting\n",
        "\n"
      ],
      "metadata": {
        "id": "2kZXUccEsxe_"
      }
    },
    {
      "cell_type": "markdown",
      "source": [
        "\n",
        "\n",
        "1.   자기 상관 함수 ACF(Auto Correlation Function): 임의의 어떤 신호(p(t))와 그 신호를 임의의 시간(t)만큼 지연시킨 신호 (p(t+t))사이의 상관관계를 파악할 수 있는 함수. 지연시간(t)에 대해 초기 신호의 성분이 계속해서 지속되고 있다면 ACF는 높은 상관관계를  나타낼 것\n",
        "2.   ACF는 기존의 레벨과 주파수 중심의 음향지표에서 실제 청감인지 모델을 기반으로 시간적인 인지에 대해서 정량화하려는 시도\n",
        "\n",
        "\n"
      ],
      "metadata": {
        "id": "fk-j-M7AufN1"
      }
    }
  ]
}